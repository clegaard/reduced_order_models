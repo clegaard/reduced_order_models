{
 "cells": [
  {
   "cell_type": "code",
   "execution_count": 1,
   "metadata": {},
   "outputs": [],
   "source": [
    "import jax\n",
    "from jax import jit, vmap, make_jaxpr\n",
    "from jax import lax\n",
    "import jax.numpy as jnp\n",
    "from jax import random"
   ]
  },
  {
   "cell_type": "code",
   "execution_count": 15,
   "metadata": {},
   "outputs": [],
   "source": [
    "block_size = 0.5\n",
    "\n",
    "n_blocks_x = 3\n",
    "n_blocks_y = 3\n",
    "inlet_idx = 3\n",
    "A = jnp.arange(1,10).reshape(3,3)\n",
    "\n",
    "def get_block_idx(x,y):\n",
    "    x_idx = jnp.floor_divide(x,block_size).astype(int)\n",
    "    y_idx = jnp.floor_divide(y,block_size).astype(int)\n",
    "    return x_idx, y_idx\n",
    "\n",
    "def permeablity(a, x,y):\n",
    "    x_idx, y_idx = get_block_idx(x,y)\n",
    "    return a[x_idx,y_idx]\n",
    "\n",
    "def is_inlet(x,y):\n",
    "    x_idx, y_idx = get_block_idx(x,y)\n",
    "    c1 = lax.cond(x_idx*y_idx == inlet_idx, lambda _: True, lambda _: False, None)\n",
    "    return c1\n",
    "\n",
    "def is_outlet(x,y):\n",
    "    pass"
   ]
  },
  {
   "cell_type": "code",
   "execution_count": 10,
   "metadata": {},
   "outputs": [
    {
     "name": "stdout",
     "output_type": "stream",
     "text": [
      "2.91 ms ± 182 µs per loop (mean ± std. dev. of 7 runs, 100 loops each)\n",
      "208 µs ± 5.7 µs per loop (mean ± std. dev. of 7 runs, 1000 loops each)\n"
     ]
    }
   ],
   "source": [
    "key = random.PRNGKey(0)\n",
    "\n",
    "x = random.normal(key,(100000,))\n",
    "y = random.normal(key,(100000,))\n",
    "\n",
    "f1 = permeablity\n",
    "f2 = vmap(permeablity,(None,0,0))\n",
    "f3 = jit(f2)\n",
    "\n",
    "g1 = is_inlet\n",
    "g2 = vmap(is_inlet,(0,0))\n",
    "g3 = jit(g2)\n",
    "\n",
    "#%timeit f1(A,x,y).block_until_ready()\n",
    "#%timeit f2(A,x,y).block_until_ready()\n",
    "#%timeit f3(A,x,y).block_until_ready()\n",
    "\n",
    "# %timeit g1(inlet_idx,x,y).block_until_ready()\n",
    "%timeit g2(x,y).block_until_ready()\n",
    "%timeit g3(x,y).block_until_ready()"
   ]
  },
  {
   "cell_type": "code",
   "execution_count": 23,
   "metadata": {},
   "outputs": [
    {
     "name": "stdout",
     "output_type": "stream",
     "text": [
      "9.31 ms ± 313 µs per loop (mean ± std. dev. of 7 runs, 100 loops each)\n",
      "213 µs ± 4.22 µs per loop (mean ± std. dev. of 7 runs, 1000 loops each)\n"
     ]
    }
   ],
   "source": [
    "inlet_velocity = 1.0\n",
    "\n",
    "def pred(a, x,y):\n",
    "    u = x*y*a\n",
    "    v = 1.2\n",
    "    w = 1.0\n",
    "    vx = 1.0\n",
    "    wy = 1.0\n",
    "\n",
    "    return u,v,w, vx,wy\n",
    "\n",
    "def loss_inlet(v):\n",
    "    return (v-inlet_velocity)**2\n",
    "\n",
    "def loss_equations(vx,wy):\n",
    "    return (vx+wy)**2\n",
    "\n",
    "def loss(x,y):\n",
    "    a = permeablity(A,x,y)\n",
    "    u,v,w, vx,wy = pred(a,x,y)\n",
    "\n",
    "    loss = 0\n",
    "\n",
    "    # if inlet calculate loss\n",
    "    loss = lax.cond(is_inlet(x,y),lambda loss: loss + loss_inlet(v), lambda _: 0.0, loss)\n",
    "    # if outlet calculate loss\n",
    "\n",
    "    # always check divergence\n",
    "    loss += loss_equations(vx,wy)\n",
    "\n",
    "\n",
    "    return loss\n",
    "\n",
    "l1 = loss\n",
    "l2 = vmap(l1,(0,0))\n",
    "l3 = jit(l2)\n",
    "\n",
    "#%timeit l1(inlet_idx,x,y).block_until_ready()\n",
    "%timeit l2(x,y).block_until_ready()\n",
    "%timeit l3(x,y).block_until_ready()"
   ]
  },
  {
   "cell_type": "code",
   "execution_count": 16,
   "metadata": {},
   "outputs": [
    {
     "data": {
      "text/plain": [
       "<function __main__.is_inlet(x, y)>"
      ]
     },
     "execution_count": 16,
     "metadata": {},
     "output_type": "execute_result"
    }
   ],
   "source": [
    "is_inlet"
   ]
  },
  {
   "cell_type": "code",
   "execution_count": null,
   "metadata": {},
   "outputs": [],
   "source": []
  }
 ],
 "metadata": {
  "interpreter": {
   "hash": "ce859d3cb1f29b4886fa4023dcb1e95bbf86f411e8e94cf41e36b3fa9b3f9e3e"
  },
  "kernelspec": {
   "display_name": "Python 3.9.5 64-bit ('venv': venv)",
   "language": "python",
   "name": "python3"
  },
  "language_info": {
   "codemirror_mode": {
    "name": "ipython",
    "version": 3
   },
   "file_extension": ".py",
   "mimetype": "text/x-python",
   "name": "python",
   "nbconvert_exporter": "python",
   "pygments_lexer": "ipython3",
   "version": "3.9.5"
  },
  "orig_nbformat": 4
 },
 "nbformat": 4,
 "nbformat_minor": 2
}
