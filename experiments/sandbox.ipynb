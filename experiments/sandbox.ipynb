{
 "cells": [
  {
   "cell_type": "code",
   "execution_count": 2,
   "metadata": {},
   "outputs": [],
   "source": [
    "import jax\n",
    "from jax import jit, vmap, make_jaxpr\n",
    "from jax import lax\n",
    "import jax.numpy as jnp\n",
    "from jax import random"
   ]
  },
  {
   "cell_type": "code",
   "execution_count": 100,
   "metadata": {},
   "outputs": [],
   "source": [
    "block_size = 0.5\n",
    "\n",
    "n_blocks_x = 3\n",
    "n_blocks_y = 3\n",
    "inlet_idx = 3\n",
    "outlet_idx = [2, 5, 8]\n",
    "A = jnp.arange(1,10).reshape(3,3)\n",
    "\n",
    "def get_block_idx(x,y, n_blocks_x):\n",
    "    x_idx = jnp.floor_divide(x,block_size).astype(int)\n",
    "    y_idx = jnp.floor_divide(y,block_size).astype(int)\n",
    "\n",
    "    return \n",
    "    return x_idx, y_idx\n",
    "\n",
    "def permeablity(a, x,y):\n",
    "    x_idx, y_idx = get_block_idx(x,y)\n",
    "    return a[x_idx,y_idx]\n",
    "\n",
    "def is_inlet(x,y):\n",
    "    x_idx, y_idx = get_block_idx(x,y)\n",
    "    c1 = lax.cond(x_idx*y_idx == inlet_idx, lambda _: 1, lambda _: 0,None)\n",
    "    c2 = lax.cond(x == 0.0, lambda _: 1, lambda _: 0, None)\n",
    "    return c1*c2 != 0\n",
    "\n",
    "def is_outlet(x,y):\n",
    "    x_idx, y_idx = get_block_idx(x,y)\n",
    "    c1 = lax.cond(x_idx*y_idx == inlet_idx, lambda _: 1, lambda _: 0, (x_idx,y_idx))\n",
    "    c2 = lax.cond(x == n_blocks_x*block_size, lambda _: 1, lambda _: 0, (x_idx,y_idx))\n",
    "    return c1*c2 != 0"
   ]
  },
  {
   "cell_type": "code",
   "execution_count": 112,
   "metadata": {},
   "outputs": [
    {
     "data": {
      "text/plain": [
       "DeviceArray(1., dtype=float32)"
      ]
     },
     "execution_count": 112,
     "metadata": {},
     "output_type": "execute_result"
    }
   ],
   "source": [
    "get_block_idx(0.0,0.75)\n",
    "jnp.floor_divide(0.75,0.5)\n",
    "#is_inlet(0.0,0.75)"
   ]
  },
  {
   "cell_type": "code",
   "execution_count": null,
   "metadata": {},
   "outputs": [],
   "source": []
  },
  {
   "cell_type": "code",
   "execution_count": 108,
   "metadata": {},
   "outputs": [
    {
     "name": "stdout",
     "output_type": "stream",
     "text": [
      "6.8 ms ± 165 µs per loop (mean ± std. dev. of 7 runs, 100 loops each)\n",
      "220 µs ± 4.83 µs per loop (mean ± std. dev. of 7 runs, 1000 loops each)\n"
     ]
    },
    {
     "data": {
      "text/plain": [
       "DeviceArray(True, dtype=bool, weak_type=True)"
      ]
     },
     "execution_count": 108,
     "metadata": {},
     "output_type": "execute_result"
    }
   ],
   "source": [
    "key = random.PRNGKey(0)\n",
    "\n",
    "x = random.normal(key,(100000,))\n",
    "y = random.normal(key,(100000,))\n",
    "\n",
    "f1 = permeablity\n",
    "f2 = vmap(permeablity,(None,0,0))\n",
    "f3 = jit(f2)\n",
    "\n",
    "g1 = is_inlet\n",
    "g2 = vmap(is_inlet,(0,0))\n",
    "g3 = jit(g2)\n",
    "\n",
    "#%timeit f1(A,x,y).block_until_ready()\n",
    "#%timeit f2(A,x,y).block_until_ready()\n",
    "#%timeit f3(A,x,y).block_until_ready()\n",
    "\n",
    "# %timeit g1(inlet_idx,x,y).block_until_ready()\n",
    "%timeit g2(x,y).block_until_ready()\n",
    "%timeit g3(x,y).block_until_ready()"
   ]
  },
  {
   "cell_type": "code",
   "execution_count": 106,
   "metadata": {},
   "outputs": [
    {
     "name": "stdout",
     "output_type": "stream",
     "text": [
      "20.5 ms ± 560 µs per loop (mean ± std. dev. of 7 runs, 10 loops each)\n",
      "212 µs ± 2.53 µs per loop (mean ± std. dev. of 7 runs, 1000 loops each)\n"
     ]
    }
   ],
   "source": [
    "inlet_velocity = 1.0\n",
    "\n",
    "def pred(a, x,y):\n",
    "    u = x*y*a\n",
    "    v = 1.2\n",
    "    w = 1.0\n",
    "    vx = 1.0\n",
    "    wy = 1.0\n",
    "\n",
    "    return u,v,w, vx,wy\n",
    "\n",
    "def loss_inlet(v):\n",
    "    return (v-inlet_velocity)**2\n",
    "\n",
    "def loss_outlet(u):\n",
    "    return (u-0.0)**2\n",
    "\n",
    "def loss_equations(vx,wy):\n",
    "    return (vx+wy)**2\n",
    "\n",
    "def loss(x,y):\n",
    "    a = permeablity(A,x,y)\n",
    "    u,v,w, vx,wy = pred(a,x,y)\n",
    "\n",
    "    loss = 0.0\n",
    "    # if inlet calculate loss\n",
    "    loss = lax.cond(is_inlet(x,y),lambda loss: loss + loss_inlet(v), lambda _: loss, loss)\n",
    "    # if outlet calculate loss\n",
    "    loss = lax.cond(is_outlet(x,y),lambda loss: loss + loss_outlet(v), lambda _: loss, loss)\n",
    "    # always check divergence\n",
    "    loss += loss_equations(vx,wy)\n",
    "\n",
    "    return loss\n",
    "\n",
    "l1 = loss\n",
    "l2 = vmap(l1,(0,0))\n",
    "l3 = jit(l2)\n",
    "\n",
    "#%timeit l1(inlet_idx,x,y).block_until_ready()\n",
    "%timeit l2(x,y).block_until_ready()\n",
    "%timeit l3(x,y).block_until_ready()"
   ]
  },
  {
   "cell_type": "code",
   "execution_count": 91,
   "metadata": {},
   "outputs": [
    {
     "name": "stdout",
     "output_type": "stream",
     "text": [
      "13.4 µs ± 34.3 ns per loop (mean ± std. dev. of 7 runs, 100000 loops each)\n",
      "67.1 µs ± 578 ns per loop (mean ± std. dev. of 7 runs, 10000 loops each)\n"
     ]
    }
   ],
   "source": [
    "key = random.PRNGKey(0)\n",
    "x = random.normal(key,(100000,))\n",
    "y = random.normal(key,(100000,))\n",
    "\n",
    "def p1(x,y):\n",
    "    return x > 10 and y > 10\n",
    "\n",
    "def p2(x,y):\n",
    "    c1 = lax.cond(x > 10 and y > 10, lambda _: True, lambda _: False, None)\n",
    "    return c1\n",
    "\n",
    "def p3(x,y):\n",
    "    c1 = lax.cond(x > 10 * y > 10, lambda _: True, lambda _: False, None)\n",
    "    return c1\n",
    "\n",
    "def p4(x,y):\n",
    "    c1 = lax.cond(x > 10, lambda _: True, lambda _: False, None)\n",
    "    c2 = lax.cond(y > 10, lambda _: True, lambda _: False, None)\n",
    "    return c1 and c2\n",
    "\n",
    "def p5(x,y):\n",
    "    c1 = lax.cond(x > 10, lambda _: True, lambda _: False, None)\n",
    "    c2 = lax.cond(y > 10, lambda _: True, lambda _: False, None)\n",
    "    return c1*c2\n",
    "\n",
    "def p6(x,y):\n",
    "    c1 = lax.cond(x > 10, lambda _: 1, lambda _: 0, None)\n",
    "    c2 = lax.cond(y > 10, lambda _: 1, lambda _: 0, None)\n",
    "    return (c1*c2).astype(bool)\n",
    "    # return c1*c2 != 0\n",
    "\n",
    "def p7(x,y):\n",
    "    \n",
    "    p = lambda x,y : x > 10 and y > 10\n",
    "\n",
    "    return lax.cond(p(x,y),lambda _: True, lambda _: False, None)\n",
    "\n",
    "#pv1 = jit(vmap(p1,(0,0)))\n",
    "#pv2 = jit(vmap(p2,(0,0)))\n",
    "#pv3 = jit(vmap(p3,(0,0)))\n",
    "#pv4 = jit(vmap(p4,(0,0)))\n",
    "pv5 = jit(vmap(p5,(0,0)))\n",
    "pv6 = jit(vmap(p6,(0,0)))\n",
    "#pv7 = jit(vmap(p7,(0,0)))\n",
    "\n",
    "#%timeit pv1(x,y).block_until_ready()\n",
    "#%timeit pv2(x,y).block_until_ready()\n",
    "#%timeit pv3(x,y).block_until_ready()\n",
    "#%timeit pv4(x,y).block_until_ready()\n",
    "%timeit pv5(x,y).block_until_ready()\n",
    "%timeit pv6(x,y).block_until_ready()\n",
    "#%timeit pv7(x,y).block_until_ready()"
   ]
  }
 ],
 "metadata": {
  "interpreter": {
   "hash": "ce859d3cb1f29b4886fa4023dcb1e95bbf86f411e8e94cf41e36b3fa9b3f9e3e"
  },
  "kernelspec": {
   "display_name": "Python 3.9.5 64-bit ('venv': venv)",
   "language": "python",
   "name": "python3"
  },
  "language_info": {
   "codemirror_mode": {
    "name": "ipython",
    "version": 3
   },
   "file_extension": ".py",
   "mimetype": "text/x-python",
   "name": "python",
   "nbconvert_exporter": "python",
   "pygments_lexer": "ipython3",
   "version": "3.9.5"
  },
  "orig_nbformat": 4
 },
 "nbformat": 4,
 "nbformat_minor": 2
}
